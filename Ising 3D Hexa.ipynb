{
 "cells": [
  {
   "cell_type": "code",
   "execution_count": 4,
   "id": "0368ceb8",
   "metadata": {},
   "outputs": [],
   "source": [
    "from numba import *\n",
    "import numpy as np\n",
    "import matplotlib.pyplot as plt\n",
    "import os"
   ]
  },
  {
   "cell_type": "code",
   "execution_count": 5,
   "id": "fac7a25f",
   "metadata": {},
   "outputs": [],
   "source": [
    "N_particules = 300\n",
    "N_interation = 10*N_particules**3"
   ]
  },
  {
   "cell_type": "code",
   "execution_count": 14,
   "id": "0881a1b5",
   "metadata": {},
   "outputs": [],
   "source": [
    "def add_line(file,line,message=False):\n",
    "    table = np.loadtxt(file)\n",
    "    if message:\n",
    "        print('in')\n",
    "    table_new = np.concatenate((table,np.array([line])),axis=0)\n",
    "    np.savetxt(file,table_new)\n",
    "    if message:\n",
    "        print('out')\n",
    "\n",
    "def is_file(fname,folder='./'):\n",
    "    return (np.array(os.listdir(folder))==fname).any()"
   ]
  },
  {
   "cell_type": "code",
   "execution_count": 15,
   "id": "7fac4a92",
   "metadata": {},
   "outputs": [
    {
     "name": "stderr",
     "output_type": "stream",
     "text": [
      "C:\\Users\\bjona\\AppData\\Local\\Temp\\ipykernel_18820\\4184339517.py:25: NumbaDeprecationWarning: \u001b[1mThe 'nopython' keyword argument was not supplied to the 'numba.jit' decorator. The implicit default value for this argument is currently False, but it will be changed to True in Numba 0.59.0. See https://numba.readthedocs.io/en/stable/reference/deprecation.html#deprecation-of-object-mode-fall-back-behaviour-when-using-jit for details.\u001b[0m\n",
      "  def delta_energy(self,state, i, j, k):\n",
      "C:\\Users\\bjona\\AppData\\Local\\Temp\\ipykernel_18820\\4184339517.py:36: NumbaDeprecationWarning: \u001b[1mThe 'nopython' keyword argument was not supplied to the 'numba.jit' decorator. The implicit default value for this argument is currently False, but it will be changed to True in Numba 0.59.0. See https://numba.readthedocs.io/en/stable/reference/deprecation.html#deprecation-of-object-mode-fall-back-behaviour-when-using-jit for details.\u001b[0m\n",
      "  def iterate(self,n=1,message=False):\n",
      "C:\\Users\\bjona\\AppData\\Local\\Temp\\ipykernel_18820\\4184339517.py:46: NumbaDeprecationWarning: \u001b[1mThe 'nopython' keyword argument was not supplied to the 'numba.jit' decorator. The implicit default value for this argument is currently False, but it will be changed to True in Numba 0.59.0. See https://numba.readthedocs.io/en/stable/reference/deprecation.html#deprecation-of-object-mode-fall-back-behaviour-when-using-jit for details.\u001b[0m\n",
      "  def energy(self):\n"
     ]
    }
   ],
   "source": [
    "class Ising3D():\n",
    "    \"\"\"\n",
    "    Pi = J/kT\n",
    "    3 'lattice_types' :\n",
    "        - cubic : all the bounds are taken into account\n",
    "        - Wurtzite : each particle has 5 neighbours as in the Wurtzite lattice\n",
    "        - Hbounds : each particle is bounded with 4 other\n",
    "    \"\"\"\n",
    "    def __init__(self,N,Pi,lattice_type='cubic'):\n",
    "        self.N = N\n",
    "        self.Pi = Pi\n",
    "        if not lattice_type in ['cubic','Wurtzite','Hbounds']:\n",
    "            raise Exception(f\"{lattice_type} should be either 'cubic' , 'Wurtzite' or 'Hbounds'\")\n",
    "        self.lattice_type = lattice_type\n",
    "        self.state = np.random.randint(low = 0, high = 2, size = (N,N,N))*2-1\n",
    "    \n",
    "    @property\n",
    "    def fname(self):\n",
    "        return f\"results_{self.lattice_type}_{self.N}.txt\"\n",
    "    \n",
    "    def set_state(self,state_in):\n",
    "        self.state = state_in\n",
    "    \n",
    "    @jit\n",
    "    def delta_energy(self,state, i, j, k):\n",
    "        Delta_H = 2*self.Pi*state[i,j,k]*(\n",
    "            (self.lattice_type not in ['Wurtzite','Hbounds'] or (i+j)%2)*state[i,(j-1)%self.N,k]\n",
    "            + (self.lattice_type not in ['Wurtzite','Hbounds'] or (i+j-1)%2)*state[i,(j+1)%self.N,k]\n",
    "            + (self.lattice_type not in ['Hbounds'] or (i+j+k)%2)*state[(i-1)%self.N,j,k]\n",
    "            + (self.lattice_type not in ['Hbounds'] or (i+j+k-1)%2)*state[(i+1)%self.N,j,k]\n",
    "            + state[i,j,(k-1)%self.N]\n",
    "            + state[i,j,(k+1)%self.N])\n",
    "        return Delta_H\n",
    "    \n",
    "    @jit\n",
    "    def iterate(self,n=1,message=False):\n",
    "        for _ in range(n):\n",
    "            if message and int(_%10**6) == 0:\n",
    "                print(_)\n",
    "            i,j,k =  np.random.randint(low=0, high=self.N, size=3)\n",
    "            Delta_H = self.delta_energy(self.state, i, j, k)\n",
    "            if Delta_H < 0 or np.random.random() < np.exp(-Delta_H):\n",
    "                self.state[i,j,k] *= -1\n",
    "    \n",
    "    @jit\n",
    "    def energy(self):\n",
    "        H = 0\n",
    "        for i in range(self.N):\n",
    "            for j in range(self.N):\n",
    "                for k in range(self.N):\n",
    "                    H += -self.state[i,j,k]*self.Pi*(\n",
    "                        (i+j+k)%2*self.state[i,(j-1)%self.N,k]\n",
    "                        + (i+j+k+1)%2*self.state[i,(j+1)%self.N,k]\n",
    "                        + self.state[(i-1)%self.N,j,k]\n",
    "                        + self.state[(i+1)%self.N,j,k]\n",
    "                        + self.state[i,j,(k-1)%self.N]\n",
    "                        + self.state[i,j,(k+1)%self.N])\n",
    "        return H\n",
    "\n",
    "    def aimantation(self):\n",
    "        return np.mean(self.state)\n",
    "    \n",
    "    def save(self,message=True):\n",
    "        if not is_file(self.fname):\n",
    "            np.savetxt(self.fname,np.zeros((2,2)))\n",
    "            print(f'Creating new file {self.fname}')\n",
    "        add_line(file=self.fname,line=[self.Pi,self.aimantation()],message=message)"
   ]
  },
  {
   "cell_type": "markdown",
   "id": "618385a5",
   "metadata": {},
   "source": [
    "# Simulation"
   ]
  },
  {
   "cell_type": "code",
   "execution_count": 22,
   "id": "79cb3b71",
   "metadata": {
    "scrolled": true
   },
   "outputs": [
    {
     "name": "stdout",
     "output_type": "stream",
     "text": [
      "0\n",
      "in\n",
      "out\n",
      "0\n",
      "in\n",
      "out\n",
      "0\n",
      "in\n",
      "out\n"
     ]
    }
   ],
   "source": [
    "List_Pi = [0.1,1,10]\n",
    "\n",
    "for Pi in List_Pi:\n",
    "    ising = Ising3D(N_particules,Pi,lattice_type='Hbounds')\n",
    "    ising.set_state(np.ones((N_particules,N_particules,N_particules)))\n",
    "    ising.iterate(n=N_interation,message=True)\n",
    "    ising.save(message=True)\n",
    "    #L_N.append(ising.aimantation())\n",
    "    #L_N.append(num_features)"
   ]
  },
  {
   "cell_type": "markdown",
   "id": "496de3b3",
   "metadata": {},
   "source": [
    "# Results"
   ]
  },
  {
   "cell_type": "code",
   "execution_count": 19,
   "id": "cb1e210b",
   "metadata": {},
   "outputs": [],
   "source": [
    "fname = 'results_cubic_300.txt'\n",
    "data = np.loadtxt(fname)\n",
    "List_Pi_data = data[:,0]\n",
    "List_M_data = data[:,1]"
   ]
  },
  {
   "cell_type": "code",
   "execution_count": 20,
   "id": "6011c283",
   "metadata": {},
   "outputs": [
    {
     "data": {
      "text/plain": [
       "Text(0, 0.5, 'Aimantation Moyenne $\\\\dfrac{M}{N}$')"
      ]
     },
     "execution_count": 20,
     "metadata": {},
     "output_type": "execute_result"
    },
    {
     "data": {
      "image/png": "[encoded data removed]",
      "text/plain": [
       "<Figure size 432x288 with 1 Axes>"
      ]
     },
     "metadata": {
      "needs_background": "light"
     },
     "output_type": "display_data"
    }
   ],
   "source": [
    "plt.plot(List_Pi_data,List_M_data,'+')\n",
    "plt.grid()\n",
    "plt.xlabel(r'$\\Pi = \\dfrac{J}{k_B T}$')\n",
    "plt.ylabel(r'Aimantation Moyenne $\\dfrac{M}{N}$')"
   ]
  },
  {
   "cell_type": "code",
   "execution_count": null,
   "id": "38bfeef7",
   "metadata": {},
   "outputs": [],
   "source": []
  }
 ],
 "metadata": {
  "kernelspec": {
   "display_name": "Python 3 (ipykernel)",
   "language": "python",
   "name": "python3"
  },
  "language_info": {
   "codemirror_mode": {
    "name": "ipython",
    "version": 3
   },
   "file_extension": ".py",
   "mimetype": "text/x-python",
   "name": "python",
   "nbconvert_exporter": "python",
   "pygments_lexer": "ipython3",
   "version": "3.9.12"
  }
 },
 "nbformat": 4,
 "nbformat_minor": 5
}
